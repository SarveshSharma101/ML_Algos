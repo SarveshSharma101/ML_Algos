{
  "nbformat": 4,
  "nbformat_minor": 0,
  "metadata": {
    "colab": {
      "name": "pytorch.ipynb",
      "provenance": []
    },
    "kernelspec": {
      "name": "python3",
      "display_name": "Python 3"
    }
  },
  "cells": [
    {
      "cell_type": "code",
      "metadata": {
        "id": "pNcVcCYzDXeU",
        "colab_type": "code",
        "colab": {}
      },
      "source": [
        "import torch\n"
      ],
      "execution_count": null,
      "outputs": []
    },
    {
      "cell_type": "code",
      "metadata": {
        "id": "_h1mGaKYDiE1",
        "colab_type": "code",
        "colab": {
          "base_uri": "https://localhost:8080/",
          "height": 100
        },
        "outputId": "d82d3279-4506-4780-d3ba-3a897b0db62b"
      },
      "source": [
        "#defining a Empty Matrix(tensor) \n",
        "x = torch.empty(size=(5,5))\n",
        "x"
      ],
      "execution_count": null,
      "outputs": [
        {
          "output_type": "execute_result",
          "data": {
            "text/plain": [
              "tensor([[7.6720e-36, 0.0000e+00, 7.0065e-44, 6.7262e-44, 6.3058e-44],\n",
              "        [6.7262e-44, 7.4269e-44, 6.3058e-44, 7.1466e-44, 6.7262e-44],\n",
              "        [1.1771e-43, 6.7262e-44, 7.5670e-44, 8.1275e-44, 7.4269e-44],\n",
              "        [7.7071e-44, 8.1275e-44, 7.0065e-44, 7.2868e-44, 6.4460e-44],\n",
              "        [6.8664e-44, 7.4269e-44, 7.9874e-44, 7.0065e-44, 7.1466e-44]])"
            ]
          },
          "metadata": {
            "tags": []
          },
          "execution_count": 55
        }
      ]
    },
    {
      "cell_type": "code",
      "metadata": {
        "id": "g34NAPUUDxnO",
        "colab_type": "code",
        "colab": {
          "base_uri": "https://localhost:8080/",
          "height": 50
        },
        "outputId": "a35defa2-a876-4dda-f8e4-6a1b6091d6cd"
      },
      "source": [
        "#defining a Empty Matrix(tensor) \n",
        "x_r = torch.rand(size=(2,2))\n",
        "x_r\n"
      ],
      "execution_count": null,
      "outputs": [
        {
          "output_type": "execute_result",
          "data": {
            "text/plain": [
              "tensor([[0.3772, 0.5888],\n",
              "        [0.2176, 0.4007]])"
            ]
          },
          "metadata": {
            "tags": []
          },
          "execution_count": 56
        }
      ]
    },
    {
      "cell_type": "code",
      "metadata": {
        "id": "SWLFgtu5EN3C",
        "colab_type": "code",
        "colab": {
          "base_uri": "https://localhost:8080/",
          "height": 50
        },
        "outputId": "15cc472c-7776-4006-d085-8e2088dae853"
      },
      "source": [
        "#defining a Matrix(tensor) of zeroes\n",
        "x_0 = torch.zeros(size=(1,1), dtype=torch.int)\n",
        "print(x_0)\n",
        "#defining a Matrix(tensor) of ones\n",
        "x_1 = torch.ones(size=(1,1))\n",
        "print(x_1)"
      ],
      "execution_count": null,
      "outputs": [
        {
          "output_type": "stream",
          "text": [
            "tensor([[0]], dtype=torch.int32)\n",
            "tensor([[1.]])\n"
          ],
          "name": "stdout"
        }
      ]
    },
    {
      "cell_type": "code",
      "metadata": {
        "id": "alMck2jpFBz4",
        "colab_type": "code",
        "colab": {
          "base_uri": "https://localhost:8080/",
          "height": 66
        },
        "outputId": "68483c34-b2d8-43f2-e9ec-88df896c71d7"
      },
      "source": [
        "#tensor with predifined values\n",
        "\n",
        "x_d = torch.tensor([[5,5,5,],[6,6,6],[8,8,8]], dtype=torch.long)\n",
        "x_d"
      ],
      "execution_count": null,
      "outputs": [
        {
          "output_type": "execute_result",
          "data": {
            "text/plain": [
              "tensor([[5, 5, 5],\n",
              "        [6, 6, 6],\n",
              "        [8, 8, 8]])"
            ]
          },
          "metadata": {
            "tags": []
          },
          "execution_count": 58
        }
      ]
    },
    {
      "cell_type": "code",
      "metadata": {
        "id": "py04eGAhFiV_",
        "colab_type": "code",
        "colab": {
          "base_uri": "https://localhost:8080/",
          "height": 66
        },
        "outputId": "20646aa4-fc8f-4bcb-a60d-1786f88aee08"
      },
      "source": [
        "x_u = torch.rand_like(x_d,dtype=torch.float)\n",
        "x_u"
      ],
      "execution_count": null,
      "outputs": [
        {
          "output_type": "execute_result",
          "data": {
            "text/plain": [
              "tensor([[0.8537, 0.1085, 0.8492],\n",
              "        [0.6608, 0.3676, 0.2480],\n",
              "        [0.0407, 0.4817, 0.2768]])"
            ]
          },
          "metadata": {
            "tags": []
          },
          "execution_count": 59
        }
      ]
    },
    {
      "cell_type": "code",
      "metadata": {
        "id": "uHmluI1JGX9s",
        "colab_type": "code",
        "colab": {
          "base_uri": "https://localhost:8080/",
          "height": 33
        },
        "outputId": "f6c906b7-c6e3-4ff8-c5dd-200675989bf2"
      },
      "source": [
        "x_u.size()"
      ],
      "execution_count": null,
      "outputs": [
        {
          "output_type": "execute_result",
          "data": {
            "text/plain": [
              "torch.Size([3, 3])"
            ]
          },
          "metadata": {
            "tags": []
          },
          "execution_count": 60
        }
      ]
    },
    {
      "cell_type": "code",
      "metadata": {
        "id": "_3KJPXAaGrBw",
        "colab_type": "code",
        "colab": {
          "base_uri": "https://localhost:8080/",
          "height": 116
        },
        "outputId": "1e66a742-652f-4370-cac4-34b2cd9a061b"
      },
      "source": [
        "#Operation\n",
        "x = torch.ones(3,3, dtype=torch.float)\n",
        "y = torch.tensor([[2,2,2],[1,1,1],[3,3,3]], dtype=torch.float32)\n",
        "print(\"x-> \", x)\n",
        "print(\"y-> \", y)\n"
      ],
      "execution_count": null,
      "outputs": [
        {
          "output_type": "stream",
          "text": [
            "x->  tensor([[1., 1., 1.],\n",
            "        [1., 1., 1.],\n",
            "        [1., 1., 1.]])\n",
            "y->  tensor([[2., 2., 2.],\n",
            "        [1., 1., 1.],\n",
            "        [3., 3., 3.]])\n"
          ],
          "name": "stdout"
        }
      ]
    },
    {
      "cell_type": "code",
      "metadata": {
        "id": "u93qW20RHUmT",
        "colab_type": "code",
        "colab": {
          "base_uri": "https://localhost:8080/",
          "height": 66
        },
        "outputId": "a8f369aa-1c35-446b-f9d7-274cc651d3ca"
      },
      "source": [
        "print(x+y)"
      ],
      "execution_count": null,
      "outputs": [
        {
          "output_type": "stream",
          "text": [
            "tensor([[3., 3., 3.],\n",
            "        [2., 2., 2.],\n",
            "        [4., 4., 4.]])\n"
          ],
          "name": "stdout"
        }
      ]
    },
    {
      "cell_type": "code",
      "metadata": {
        "id": "t6bKyIWRHXew",
        "colab_type": "code",
        "colab": {}
      },
      "source": [
        "z = torch.add(x,y)"
      ],
      "execution_count": null,
      "outputs": []
    },
    {
      "cell_type": "code",
      "metadata": {
        "id": "vUJc6uLoIPRE",
        "colab_type": "code",
        "colab": {
          "base_uri": "https://localhost:8080/",
          "height": 66
        },
        "outputId": "4a5d995d-8030-4c0f-b100-cd7ad5a4847c"
      },
      "source": [
        "print(z)"
      ],
      "execution_count": null,
      "outputs": [
        {
          "output_type": "stream",
          "text": [
            "tensor([[3., 3., 3.],\n",
            "        [2., 2., 2.],\n",
            "        [4., 4., 4.]])\n"
          ],
          "name": "stdout"
        }
      ]
    },
    {
      "cell_type": "code",
      "metadata": {
        "id": "vgkKtc2dIQ1f",
        "colab_type": "code",
        "colab": {
          "base_uri": "https://localhost:8080/",
          "height": 66
        },
        "outputId": "68b2da81-fdc7-441d-f7a8-c2744f2b5d34"
      },
      "source": [
        "result = torch.zeros(3,3)\n",
        "torch.matmul(x,y, out=result)\n",
        "print(result)"
      ],
      "execution_count": null,
      "outputs": [
        {
          "output_type": "stream",
          "text": [
            "tensor([[6., 6., 6.],\n",
            "        [6., 6., 6.],\n",
            "        [6., 6., 6.]])\n"
          ],
          "name": "stdout"
        }
      ]
    },
    {
      "cell_type": "code",
      "metadata": {
        "id": "OrVAe48rInaJ",
        "colab_type": "code",
        "colab": {
          "base_uri": "https://localhost:8080/",
          "height": 83
        },
        "outputId": "4cb3e220-a5ad-47e6-8000-464282affbab"
      },
      "source": [
        "a = torch.ones(2,2, dtype=torch.float)\n",
        "b = torch.tensor([[2,2,],[1,1]], dtype=torch.float32)\n",
        "print(\"a-> \", a)\n",
        "print(\"b-> \", b)"
      ],
      "execution_count": null,
      "outputs": [
        {
          "output_type": "stream",
          "text": [
            "a->  tensor([[1., 1.],\n",
            "        [1., 1.]])\n",
            "b->  tensor([[2., 2.],\n",
            "        [1., 1.]])\n"
          ],
          "name": "stdout"
        }
      ]
    },
    {
      "cell_type": "code",
      "metadata": {
        "id": "RR4kMKOMKEIL",
        "colab_type": "code",
        "colab": {
          "base_uri": "https://localhost:8080/",
          "height": 50
        },
        "outputId": "665f0c60-abc0-41e4-c388-3e80973f043c"
      },
      "source": [
        "c = torch.zeros(2,2)\n",
        "torch.matmul(a,b, out=c)\n",
        "print(c)"
      ],
      "execution_count": null,
      "outputs": [
        {
          "output_type": "stream",
          "text": [
            "tensor([[3., 3.],\n",
            "        [3., 3.]])\n"
          ],
          "name": "stdout"
        }
      ]
    },
    {
      "cell_type": "code",
      "metadata": {
        "id": "j0UTXQrrKcxf",
        "colab_type": "code",
        "colab": {
          "base_uri": "https://localhost:8080/",
          "height": 116
        },
        "outputId": "a1515c43-524c-4d65-fe14-cb1ccd0c5868"
      },
      "source": [
        "print(\"y-> \",y)\n",
        "print(\"y_transporse-> \", y.t_())"
      ],
      "execution_count": null,
      "outputs": [
        {
          "output_type": "stream",
          "text": [
            "y->  tensor([[2., 2., 2.],\n",
            "        [1., 1., 1.],\n",
            "        [3., 3., 3.]])\n",
            "y_transporse->  tensor([[2., 1., 3.],\n",
            "        [2., 1., 3.],\n",
            "        [2., 1., 3.]])\n"
          ],
          "name": "stdout"
        }
      ]
    },
    {
      "cell_type": "code",
      "metadata": {
        "id": "6L8mF8A5K5Ux",
        "colab_type": "code",
        "colab": {
          "base_uri": "https://localhost:8080/",
          "height": 66
        },
        "outputId": "937ce068-effd-4b9a-e1b2-0287b5c494ba"
      },
      "source": [
        "y"
      ],
      "execution_count": null,
      "outputs": [
        {
          "output_type": "execute_result",
          "data": {
            "text/plain": [
              "tensor([[2., 1., 3.],\n",
              "        [2., 1., 3.],\n",
              "        [2., 1., 3.]])"
            ]
          },
          "metadata": {
            "tags": []
          },
          "execution_count": 69
        }
      ]
    },
    {
      "cell_type": "code",
      "metadata": {
        "id": "9cQupFVhycQw",
        "colab_type": "code",
        "colab": {}
      },
      "source": [
        ""
      ],
      "execution_count": null,
      "outputs": []
    },
    {
      "cell_type": "code",
      "metadata": {
        "id": "nejWjZDiMNAe",
        "colab_type": "code",
        "colab": {
          "base_uri": "https://localhost:8080/",
          "height": 33
        },
        "outputId": "f326cadf-cd1e-421f-c8f1-8ba580a6d71a"
      },
      "source": [
        "y[:,1]"
      ],
      "execution_count": null,
      "outputs": [
        {
          "output_type": "execute_result",
          "data": {
            "text/plain": [
              "tensor([1., 1., 1.])"
            ]
          },
          "metadata": {
            "tags": []
          },
          "execution_count": 70
        }
      ]
    },
    {
      "cell_type": "code",
      "metadata": {
        "id": "eg0iCGzQMPsi",
        "colab_type": "code",
        "colab": {
          "base_uri": "https://localhost:8080/",
          "height": 50
        },
        "outputId": "e24d656d-0b5c-4bd1-ae9e-ae3832e89a81"
      },
      "source": [
        "a1 = torch.randn(1)\n",
        "print(a1)\n",
        "print(a1.item())"
      ],
      "execution_count": null,
      "outputs": [
        {
          "output_type": "stream",
          "text": [
            "tensor([-0.1496])\n",
            "-0.14955879747867584\n"
          ],
          "name": "stdout"
        }
      ]
    },
    {
      "cell_type": "code",
      "metadata": {
        "id": "oUQzHZhcMp3Z",
        "colab_type": "code",
        "colab": {}
      },
      "source": [
        "g =torch.ones(2,2, requires_grad=True)"
      ],
      "execution_count": null,
      "outputs": []
    },
    {
      "cell_type": "code",
      "metadata": {
        "id": "mazFKS65YSOv",
        "colab_type": "code",
        "colab": {
          "base_uri": "https://localhost:8080/",
          "height": 50
        },
        "outputId": "41749062-f328-4f31-df9d-6c8c04fdb970"
      },
      "source": [
        "g"
      ],
      "execution_count": null,
      "outputs": [
        {
          "output_type": "execute_result",
          "data": {
            "text/plain": [
              "tensor([[1., 1.],\n",
              "        [1., 1.]], requires_grad=True)"
            ]
          },
          "metadata": {
            "tags": []
          },
          "execution_count": 79
        }
      ]
    },
    {
      "cell_type": "code",
      "metadata": {
        "id": "p4PREfIAYTiQ",
        "colab_type": "code",
        "colab": {
          "base_uri": "https://localhost:8080/",
          "height": 33
        },
        "outputId": "937aade1-913a-42c9-db9d-bae320de90d0"
      },
      "source": [
        "g.requires_grad"
      ],
      "execution_count": null,
      "outputs": [
        {
          "output_type": "execute_result",
          "data": {
            "text/plain": [
              "True"
            ]
          },
          "metadata": {
            "tags": []
          },
          "execution_count": 80
        }
      ]
    },
    {
      "cell_type": "code",
      "metadata": {
        "id": "Mq620kj2YW-Q",
        "colab_type": "code",
        "colab": {}
      },
      "source": [
        "gy = (g*2).mean()"
      ],
      "execution_count": null,
      "outputs": []
    },
    {
      "cell_type": "code",
      "metadata": {
        "id": "KYCrRHE2YaAk",
        "colab_type": "code",
        "colab": {
          "base_uri": "https://localhost:8080/",
          "height": 33
        },
        "outputId": "877ae619-5cdd-4b42-8e86-be5b9005a4ea"
      },
      "source": [
        "print(gy)"
      ],
      "execution_count": null,
      "outputs": [
        {
          "output_type": "stream",
          "text": [
            "tensor(2., grad_fn=<MeanBackward0>)\n"
          ],
          "name": "stdout"
        }
      ]
    },
    {
      "cell_type": "code",
      "metadata": {
        "id": "70QYBTx_YrWJ",
        "colab_type": "code",
        "colab": {}
      },
      "source": [
        "gy.backward()"
      ],
      "execution_count": null,
      "outputs": []
    },
    {
      "cell_type": "code",
      "metadata": {
        "id": "Jzb4NE48Y0eG",
        "colab_type": "code",
        "colab": {
          "base_uri": "https://localhost:8080/",
          "height": 70
        },
        "outputId": "72dd97a5-8d67-4d19-d12e-93f604bee42f"
      },
      "source": [
        "gy.grad"
      ],
      "execution_count": null,
      "outputs": [
        {
          "output_type": "stream",
          "text": [
            "/usr/local/lib/python3.6/dist-packages/torch/tensor.py:746: UserWarning: The .grad attribute of a Tensor that is not a leaf Tensor is being accessed. Its .grad attribute won't be populated during autograd.backward(). If you indeed want the gradient for a non-leaf Tensor, use .retain_grad() on the non-leaf Tensor. If you access the non-leaf Tensor by mistake, make sure you access the leaf Tensor instead. See github.com/pytorch/pytorch/pull/30531 for more informations.\n",
            "  warnings.warn(\"The .grad attribute of a Tensor that is not a leaf Tensor is being accessed. Its .grad \"\n"
          ],
          "name": "stderr"
        }
      ]
    },
    {
      "cell_type": "code",
      "metadata": {
        "id": "0XxLjnFaZ3Sc",
        "colab_type": "code",
        "colab": {
          "base_uri": "https://localhost:8080/",
          "height": 50
        },
        "outputId": "7d8c67c8-8898-4a91-d13d-0ce5ed674132"
      },
      "source": [
        "g.grad"
      ],
      "execution_count": null,
      "outputs": [
        {
          "output_type": "execute_result",
          "data": {
            "text/plain": [
              "tensor([[0.5000, 0.5000],\n",
              "        [0.5000, 0.5000]])"
            ]
          },
          "metadata": {
            "tags": []
          },
          "execution_count": 91
        }
      ]
    },
    {
      "cell_type": "code",
      "metadata": {
        "id": "T2wzpt-daQRb",
        "colab_type": "code",
        "colab": {
          "base_uri": "https://localhost:8080/",
          "height": 33
        },
        "outputId": "61e662ae-3652-45a0-88c4-069ba3f8b4c2"
      },
      "source": [
        "gy"
      ],
      "execution_count": null,
      "outputs": [
        {
          "output_type": "execute_result",
          "data": {
            "text/plain": [
              "tensor(2., grad_fn=<MeanBackward0>)"
            ]
          },
          "metadata": {
            "tags": []
          },
          "execution_count": 92
        }
      ]
    },
    {
      "cell_type": "code",
      "metadata": {
        "id": "yEOBcSjJaTn-",
        "colab_type": "code",
        "colab": {}
      },
      "source": [
        ""
      ],
      "execution_count": null,
      "outputs": []
    }
  ]
}