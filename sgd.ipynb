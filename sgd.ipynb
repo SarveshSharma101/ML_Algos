{
  "nbformat": 4,
  "nbformat_minor": 0,
  "metadata": {
    "colab": {
      "name": "sgd.ipynb",
      "provenance": []
    },
    "kernelspec": {
      "name": "python3",
      "display_name": "Python 3"
    },
    "accelerator": "GPU"
  },
  "cells": [
    {
      "cell_type": "code",
      "metadata": {
        "id": "EfHdFvQ5nTA1",
        "colab_type": "code",
        "colab": {}
      },
      "source": [
        "from fastai import *\n",
        "import torch"
      ],
      "execution_count": null,
      "outputs": []
    },
    {
      "cell_type": "code",
      "metadata": {
        "id": "afc4LXwBnfuR",
        "colab_type": "code",
        "colab": {}
      },
      "source": [
        "n = 100"
      ],
      "execution_count": null,
      "outputs": []
    },
    {
      "cell_type": "code",
      "metadata": {
        "id": "Lr87jb3dnqKc",
        "colab_type": "code",
        "colab": {}
      },
      "source": [
        "x = torch.ones(n,2, dtype=torch.float)\n"
      ],
      "execution_count": null,
      "outputs": []
    },
    {
      "cell_type": "code",
      "metadata": {
        "id": "XFwdFy1upmqw",
        "colab_type": "code",
        "colab": {
          "base_uri": "https://localhost:8080/",
          "height": 183
        },
        "outputId": "5a1ec83c-c8c7-4397-e2f2-1513dde61887"
      },
      "source": [
        "x[:,[0]]=x[:,[0]].uniform_(-1,1)\n",
        "x[:10,:]"
      ],
      "execution_count": null,
      "outputs": [
        {
          "output_type": "execute_result",
          "data": {
            "text/plain": [
              "tensor([[ 0.5590,  1.0000],\n",
              "        [-0.4626,  1.0000],\n",
              "        [ 0.3421,  1.0000],\n",
              "        [ 0.4311,  1.0000],\n",
              "        [-0.1127,  1.0000],\n",
              "        [-0.2310,  1.0000],\n",
              "        [ 0.5081,  1.0000],\n",
              "        [-0.3583,  1.0000],\n",
              "        [ 0.4754,  1.0000],\n",
              "        [ 0.6816,  1.0000]])"
            ]
          },
          "metadata": {
            "tags": []
          },
          "execution_count": 17
        }
      ]
    },
    {
      "cell_type": "code",
      "metadata": {
        "id": "xYhfRTZWp95X",
        "colab_type": "code",
        "colab": {
          "base_uri": "https://localhost:8080/",
          "height": 33
        },
        "outputId": "4b7fc7b2-ba37-49d4-b4da-d5c363e5cf83"
      },
      "source": [
        "a = torch.tensor([3.,1.], dtype=torch.float)\n",
        "a"
      ],
      "execution_count": null,
      "outputs": [
        {
          "output_type": "execute_result",
          "data": {
            "text/plain": [
              "tensor([3., 1.])"
            ]
          },
          "metadata": {
            "tags": []
          },
          "execution_count": 18
        }
      ]
    },
    {
      "cell_type": "code",
      "metadata": {
        "id": "LzBdD8Gmr4hD",
        "colab_type": "code",
        "colab": {
          "base_uri": "https://localhost:8080/",
          "height": 33
        },
        "outputId": "cb25df00-be23-4586-bf6b-abc0ecbc517f"
      },
      "source": [
        "y = x@a+torch.rand(n)\n",
        "y.shape"
      ],
      "execution_count": null,
      "outputs": [
        {
          "output_type": "execute_result",
          "data": {
            "text/plain": [
              "torch.Size([100])"
            ]
          },
          "metadata": {
            "tags": []
          },
          "execution_count": 19
        }
      ]
    },
    {
      "cell_type": "code",
      "metadata": {
        "id": "YkQZutNFr_az",
        "colab_type": "code",
        "colab": {
          "base_uri": "https://localhost:8080/",
          "height": 264
        },
        "outputId": "a7def966-9de4-4b86-aaf6-b1698e4edb5a"
      },
      "source": [
        "import matplotlib.pyplot as plt\n",
        "plt.scatter(x[:,0],y)\n",
        "plt.show()"
      ],
      "execution_count": null,
      "outputs": [
        {
          "output_type": "display_data",
          "data": {
            "image/png": "[encoded data removed]",
            "text/plain": [
              "<Figure size 432x288 with 1 Axes>"
            ]
          },
          "metadata": {
            "tags": [],
            "needs_background": "light"
          }
        }
      ]
    },
    {
      "cell_type": "code",
      "metadata": {
        "id": "xmZJpC7qtNAX",
        "colab_type": "code",
        "colab": {}
      },
      "source": [
        "def mse(y_hat,y):\n",
        "  return ((y-y_hat)**2).mean()"
      ],
      "execution_count": null,
      "outputs": []
    },
    {
      "cell_type": "code",
      "metadata": {
        "id": "1hucH7tOsFmk",
        "colab_type": "code",
        "colab": {
          "base_uri": "https://localhost:8080/",
          "height": 33
        },
        "outputId": "e2850516-b953-4f6f-ffd6-ba4949854362"
      },
      "source": [
        "a_train = torch.tensor([-1,1], dtype=torch.float)\n",
        "y_hat = x@a_train \n",
        "mse(y_hat, y)"
      ],
      "execution_count": null,
      "outputs": [
        {
          "output_type": "execute_result",
          "data": {
            "text/plain": [
              "tensor(4.9954)"
            ]
          },
          "metadata": {
            "tags": []
          },
          "execution_count": 22
        }
      ]
    },
    {
      "cell_type": "code",
      "metadata": {
        "id": "rGhhVoDhtcC-",
        "colab_type": "code",
        "colab": {
          "base_uri": "https://localhost:8080/",
          "height": 281
        },
        "outputId": "ea0243bd-31d6-420d-dad0-e4d185c6116d"
      },
      "source": [
        "plt.scatter(x[:,0],y)\n",
        "plt.scatter(x[:,0],x@a_train)"
      ],
      "execution_count": null,
      "outputs": [
        {
          "output_type": "execute_result",
          "data": {
            "text/plain": [
              "<matplotlib.collections.PathCollection at 0x7f6fe753aa90>"
            ]
          },
          "metadata": {
            "tags": []
          },
          "execution_count": 23
        },
        {
          "output_type": "display_data",
          "data": {
            "image/png": "[encoded data removed]",
            "text/plain": [
              "<Figure size 432x288 with 1 Axes>"
            ]
          },
          "metadata": {
            "tags": [],
            "needs_background": "light"
          }
        }
      ]
    },
    {
      "cell_type": "code",
      "metadata": {
        "id": "ilRkyb0Wt--Y",
        "colab_type": "code",
        "colab": {}
      },
      "source": [
        "def update(lr,t):\n",
        "  y_hat = x@a_train \n",
        "  loss = mse(y_hat,y)\n",
        "  if t % 10==0:\n",
        "    print(loss)\n",
        "  loss.backward()\n",
        "  with torch.no_grad():\n",
        "    a_train.sub_(lr*a_train.grad)\n",
        "    a_train.grad.zero_()\n"
      ],
      "execution_count": null,
      "outputs": []
    },
    {
      "cell_type": "code",
      "metadata": {
        "id": "g8V9E-qMvJAo",
        "colab_type": "code",
        "colab": {
          "base_uri": "https://localhost:8080/",
          "height": 200
        },
        "outputId": "6f4cf3b0-4623-499b-ea8a-1207b09f9fae"
      },
      "source": [
        "lr=1e-1\n",
        "print(a_train.requires_grad_(True))\n",
        "for t in range(100): update(lr,t)"
      ],
      "execution_count": null,
      "outputs": [
        {
          "output_type": "stream",
          "text": [
            "tensor([-1.,  1.], requires_grad=True)\n",
            "tensor(4.9954, grad_fn=<MeanBackward0>)\n",
            "tensor(1.5248, grad_fn=<MeanBackward0>)\n",
            "tensor(0.5184, grad_fn=<MeanBackward0>)\n",
            "tensor(0.2135, grad_fn=<MeanBackward0>)\n",
            "tensor(0.1209, grad_fn=<MeanBackward0>)\n",
            "tensor(0.0929, grad_fn=<MeanBackward0>)\n",
            "tensor(0.0843, grad_fn=<MeanBackward0>)\n",
            "tensor(0.0818, grad_fn=<MeanBackward0>)\n",
            "tensor(0.0810, grad_fn=<MeanBackward0>)\n",
            "tensor(0.0807, grad_fn=<MeanBackward0>)\n"
          ],
          "name": "stdout"
        }
      ]
    },
    {
      "cell_type": "code",
      "metadata": {
        "id": "1BHzzynxvUfa",
        "colab_type": "code",
        "colab": {
          "base_uri": "https://localhost:8080/",
          "height": 297
        },
        "outputId": "a7535095-b9bd-4cfc-db7c-8266a0e0141a"
      },
      "source": [
        "print(a_train.detach_())\n",
        "plt.scatter(x[:,0],y)\n",
        "plt.scatter(x[:,0],x@(a_train))"
      ],
      "execution_count": null,
      "outputs": [
        {
          "output_type": "stream",
          "text": [
            "tensor([3.0343, 1.4734])\n"
          ],
          "name": "stdout"
        },
        {
          "output_type": "execute_result",
          "data": {
            "text/plain": [
              "<matplotlib.collections.PathCollection at 0x7f6fe75d1320>"
            ]
          },
          "metadata": {
            "tags": []
          },
          "execution_count": 26
        },
        {
          "output_type": "display_data",
          "data": {
            "image/png": "[encoded data removed]",
            "text/plain": [
              "<Figure size 432x288 with 1 Axes>"
            ]
          },
          "metadata": {
            "tags": [],
            "needs_background": "light"
          }
        }
      ]
    },
    {
      "cell_type": "code",
      "metadata": {
        "id": "KT-SaIrVww6P",
        "colab_type": "code",
        "colab": {}
      },
      "source": [
        "path = '/content/mnist.pkl.gz'"
      ],
      "execution_count": null,
      "outputs": []
    },
    {
      "cell_type": "code",
      "metadata": {
        "id": "SpnUqOkwxYva",
        "colab_type": "code",
        "colab": {}
      },
      "source": [
        "from fastai.basics import *\n",
        "with gzip.open(path, 'rb') as f:\n",
        "    ((x_train, y_train), (x_valid, y_valid), _) = pickle.load(f, encoding='latin-1')\n"
      ],
      "execution_count": null,
      "outputs": []
    },
    {
      "cell_type": "code",
      "metadata": {
        "id": "PUZ9sQ0excye",
        "colab_type": "code",
        "colab": {
          "base_uri": "https://localhost:8080/",
          "height": 33
        },
        "outputId": "7ed87e83-75c1-4e20-a604-3296a72f8d45"
      },
      "source": [
        "print(x_train.shape)"
      ],
      "execution_count": null,
      "outputs": [
        {
          "output_type": "stream",
          "text": [
            "(50000, 784)\n"
          ],
          "name": "stdout"
        }
      ]
    },
    {
      "cell_type": "code",
      "metadata": {
        "id": "uAiT07V8338h",
        "colab_type": "code",
        "colab": {
          "base_uri": "https://localhost:8080/",
          "height": 281
        },
        "outputId": "b76c9ad7-51f3-42e4-ca50-49b535df36c5"
      },
      "source": [
        "plt.imshow(x_train[0].reshape((28,28)), cmap='gray')"
      ],
      "execution_count": null,
      "outputs": [
        {
          "output_type": "execute_result",
          "data": {
            "text/plain": [
              "<matplotlib.image.AxesImage at 0x7f7b2e635320>"
            ]
          },
          "metadata": {
            "tags": []
          },
          "execution_count": 14
        },
        {
          "output_type": "display_data",
          "data": {
            "image/png": "[encoded data removed]",
            "text/plain": [
              "<Figure size 432x288 with 1 Axes>"
            ]
          },
          "metadata": {
            "tags": [],
            "needs_background": "light"
          }
        }
      ]
    },
    {
      "cell_type": "code",
      "metadata": {
        "id": "ginTWJqB4A4E",
        "colab_type": "code",
        "colab": {
          "base_uri": "https://localhost:8080/",
          "height": 70
        },
        "outputId": "08ff79ad-90aa-4570-cb98-d0674c9554b8"
      },
      "source": [
        "x_train,y_train,x_valid,y_valid = map(torch.tensor, (x_train,y_train,x_valid,y_valid))\n",
        "n,c=x_train.shape"
      ],
      "execution_count": null,
      "outputs": [
        {
          "output_type": "stream",
          "text": [
            "/usr/local/lib/python3.6/dist-packages/ipykernel_launcher.py:1: UserWarning: To copy construct from a tensor, it is recommended to use sourceTensor.clone().detach() or sourceTensor.clone().detach().requires_grad_(True), rather than torch.tensor(sourceTensor).\n",
            "  \"\"\"Entry point for launching an IPython kernel.\n"
          ],
          "name": "stderr"
        }
      ]
    },
    {
      "cell_type": "code",
      "metadata": {
        "id": "EprcDxsO4cAO",
        "colab_type": "code",
        "colab": {}
      },
      "source": [
        "bs=64\n",
        "train_ds = TensorDataset(x_train, y_train)\n",
        "valid_ds = TensorDataset(x_valid, y_valid)\n",
        "data = DataBunch.create(train_ds, valid_ds, bs=bs)"
      ],
      "execution_count": null,
      "outputs": []
    },
    {
      "cell_type": "code",
      "metadata": {
        "id": "DFRYIfHk9nHy",
        "colab_type": "code",
        "colab": {
          "base_uri": "https://localhost:8080/",
          "height": 33
        },
        "outputId": "f902fae4-888c-4e1b-ba87-d8174d9c3a5d"
      },
      "source": [
        "x,y = next(iter(data.train_dl))\n",
        "x.shape,y.shape"
      ],
      "execution_count": null,
      "outputs": [
        {
          "output_type": "execute_result",
          "data": {
            "text/plain": [
              "(torch.Size([64, 784]), torch.Size([64]))"
            ]
          },
          "metadata": {
            "tags": []
          },
          "execution_count": 17
        }
      ]
    },
    {
      "cell_type": "code",
      "metadata": {
        "id": "CwCvGgw__Juw",
        "colab_type": "code",
        "colab": {}
      },
      "source": [
        "class MNIST_LOGNN(torch.nn.Module):\n",
        "  def __init__(self):\n",
        "    super().__init__()\n",
        "    self.L1 = nn.Linear(784,10)\n",
        "\n",
        "  def forward(self, x_b):\n",
        "    return self.L1(x_b)\n"
      ],
      "execution_count": null,
      "outputs": []
    },
    {
      "cell_type": "code",
      "metadata": {
        "id": "VZjE9mCNFREb",
        "colab_type": "code",
        "colab": {}
      },
      "source": [
        "class MNIST_LOGNN2(torch.nn.Module):\n",
        "  def __init__(self):\n",
        "    super().__init__()\n",
        "    self.L1 = nn.Linear(784,64)\n",
        "    self.L2 = nn.Linear(64,10)\n",
        "\n",
        "  def forward(self, x_b):\n",
        "    x = self.L1(x_b)\n",
        "    x = F.relu(x)\n",
        "    return self.L2(x)"
      ],
      "execution_count": null,
      "outputs": []
    },
    {
      "cell_type": "code",
      "metadata": {
        "id": "4iIQkRFTADZG",
        "colab_type": "code",
        "colab": {}
      },
      "source": [
        "model = MNIST_LOGNN().cuda()"
      ],
      "execution_count": null,
      "outputs": []
    },
    {
      "cell_type": "code",
      "metadata": {
        "id": "oymNIAKVAHNa",
        "colab_type": "code",
        "colab": {
          "base_uri": "https://localhost:8080/",
          "height": 33
        },
        "outputId": "99ca99ee-dfbd-4b33-9b3f-78b498867ca0"
      },
      "source": [
        "model.L1"
      ],
      "execution_count": null,
      "outputs": [
        {
          "output_type": "execute_result",
          "data": {
            "text/plain": [
              "Linear(in_features=784, out_features=10, bias=True)"
            ]
          },
          "metadata": {
            "tags": []
          },
          "execution_count": 38
        }
      ]
    },
    {
      "cell_type": "code",
      "metadata": {
        "id": "7LgPYnnpB_86",
        "colab_type": "code",
        "colab": {
          "base_uri": "https://localhost:8080/",
          "height": 66
        },
        "outputId": "9efff7bd-5c67-4026-a0ff-a1e74adf81ec"
      },
      "source": [
        "model"
      ],
      "execution_count": null,
      "outputs": [
        {
          "output_type": "execute_result",
          "data": {
            "text/plain": [
              "MNIST_LOGNN(\n",
              "  (L1): Linear(in_features=784, out_features=10, bias=True)\n",
              ")"
            ]
          },
          "metadata": {
            "tags": []
          },
          "execution_count": 39
        }
      ]
    },
    {
      "cell_type": "code",
      "metadata": {
        "id": "ha9QbJmGCE2-",
        "colab_type": "code",
        "colab": {
          "base_uri": "https://localhost:8080/",
          "height": 316
        },
        "outputId": "bc33d27f-0dd5-4be1-f9a6-c5e9490957d1"
      },
      "source": [
        "[print(p, \"------->\",p.shape) for p in model.parameters()]"
      ],
      "execution_count": null,
      "outputs": [
        {
          "output_type": "stream",
          "text": [
            "Parameter containing:\n",
            "tensor([[-2.5881e-02,  3.0154e-02, -1.6055e-02,  ..., -3.1735e-02,\n",
            "         -2.6400e-02, -1.7842e-02],\n",
            "        [-9.7823e-03,  3.4164e-03, -2.9775e-02,  ...,  3.4495e-02,\n",
            "          2.5700e-02, -3.3220e-02],\n",
            "        [ 3.0152e-02,  1.2818e-02, -9.9257e-04,  ...,  8.2789e-04,\n",
            "          2.8467e-02, -2.9630e-02],\n",
            "        ...,\n",
            "        [-1.1805e-02,  1.7750e-02, -9.8776e-03,  ...,  3.4236e-02,\n",
            "          2.7578e-02,  1.9233e-02],\n",
            "        [ 3.0898e-05,  2.0806e-02, -3.2683e-02,  ..., -1.5847e-02,\n",
            "         -1.4531e-02,  1.7826e-02],\n",
            "        [ 2.2938e-02,  7.7431e-03, -1.2070e-02,  ..., -1.6878e-02,\n",
            "         -8.7092e-03, -9.3980e-03]], device='cuda:0', requires_grad=True) -------> torch.Size([10, 784])\n",
            "Parameter containing:\n",
            "tensor([ 0.0257,  0.0095, -0.0218, -0.0243, -0.0328,  0.0265,  0.0295, -0.0320,\n",
            "        -0.0120, -0.0150], device='cuda:0', requires_grad=True) -------> torch.Size([10])\n"
          ],
          "name": "stdout"
        },
        {
          "output_type": "execute_result",
          "data": {
            "text/plain": [
              "[None, None]"
            ]
          },
          "metadata": {
            "tags": []
          },
          "execution_count": 40
        }
      ]
    },
    {
      "cell_type": "code",
      "metadata": {
        "id": "NnOG15FPCNUh",
        "colab_type": "code",
        "colab": {}
      },
      "source": [
        "loss_f = torch.nn.CrossEntropyLoss()"
      ],
      "execution_count": null,
      "outputs": []
    },
    {
      "cell_type": "code",
      "metadata": {
        "id": "EzZGd2XmCsCL",
        "colab_type": "code",
        "colab": {}
      },
      "source": [
        "def logupdate(x,y,lr, m):\n",
        "  wd=0.1\n",
        "  y_hat = m(x)\n",
        "  w=0.\n",
        "  for p in model.parameters():\n",
        "    w+=(p**2).sum()\n",
        "  loss = loss_f(y_hat, y)+ w*wd\n",
        "  loss.backward()\n",
        "  with torch.no_grad():\n",
        "    for p in m.parameters():\n",
        "\n",
        "      p.sub_(lr*p.grad)\n",
        "      p.grad.zero_()\n",
        "  return loss.item()"
      ],
      "execution_count": null,
      "outputs": []
    },
    {
      "cell_type": "code",
      "metadata": {
        "id": "JAJrqyJcCw76",
        "colab_type": "code",
        "colab": {}
      },
      "source": [
        "lr = 1e-1\n",
        "losses = [logupdate(x,y,lr,model) for x,y in data.train_dl]"
      ],
      "execution_count": null,
      "outputs": []
    },
    {
      "cell_type": "code",
      "metadata": {
        "id": "7nyQ56PFEcFH",
        "colab_type": "code",
        "colab": {
          "base_uri": "https://localhost:8080/",
          "height": 281
        },
        "outputId": "bdb6078d-3bb9-4981-8826-b688dc1dd00d"
      },
      "source": [
        "plt.plot(losses)"
      ],
      "execution_count": null,
      "outputs": [
        {
          "output_type": "execute_result",
          "data": {
            "text/plain": [
              "[<matplotlib.lines.Line2D at 0x7f7b223cafd0>]"
            ]
          },
          "metadata": {
            "tags": []
          },
          "execution_count": 44
        },
        {
          "output_type": "display_data",
          "data": {
            "image/png": "[encoded data removed]",
            "text/plain": [
              "<Figure size 432x288 with 1 Axes>"
            ]
          },
          "metadata": {
            "tags": [],
            "needs_background": "light"
          }
        }
      ]
    },
    {
      "cell_type": "code",
      "metadata": {
        "id": "LNX2pbQqEqt9",
        "colab_type": "code",
        "colab": {}
      },
      "source": [
        ""
      ],
      "execution_count": null,
      "outputs": []
    },
    {
      "cell_type": "code",
      "metadata": {
        "id": "v0bl6wxnF-jB",
        "colab_type": "code",
        "colab": {}
      },
      "source": [
        ""
      ],
      "execution_count": null,
      "outputs": []
    },
    {
      "cell_type": "code",
      "metadata": {
        "id": "--nZbbSwGD5e",
        "colab_type": "code",
        "colab": {}
      },
      "source": [
        "model2 =MNIST_LOGNN2().cuda()"
      ],
      "execution_count": null,
      "outputs": []
    },
    {
      "cell_type": "code",
      "metadata": {
        "id": "jTGb4GW7Gpuc",
        "colab_type": "code",
        "colab": {
          "base_uri": "https://localhost:8080/",
          "height": 83
        },
        "outputId": "eb408c99-f1cd-4551-b668-0c2a7c546caa"
      },
      "source": [
        "model2"
      ],
      "execution_count": null,
      "outputs": [
        {
          "output_type": "execute_result",
          "data": {
            "text/plain": [
              "MNIST_LOGNN2(\n",
              "  (L1): Linear(in_features=784, out_features=64, bias=True)\n",
              "  (L2): Linear(in_features=64, out_features=10, bias=True)\n",
              ")"
            ]
          },
          "metadata": {
            "tags": []
          },
          "execution_count": 50
        }
      ]
    },
    {
      "cell_type": "code",
      "metadata": {
        "id": "AMBoTAZ3Grqr",
        "colab_type": "code",
        "colab": {
          "base_uri": "https://localhost:8080/",
          "height": 100
        },
        "outputId": "616629ca-36d5-4d9e-826f-5fba127e6572"
      },
      "source": [
        "[print(\"------>\",p.shape) for p in model2.parameters()]"
      ],
      "execution_count": null,
      "outputs": [
        {
          "output_type": "stream",
          "text": [
            "------> torch.Size([64, 784])\n",
            "------> torch.Size([64])\n",
            "------> torch.Size([10, 64])\n",
            "------> torch.Size([10])\n"
          ],
          "name": "stdout"
        },
        {
          "output_type": "execute_result",
          "data": {
            "text/plain": [
              "[None, None, None, None]"
            ]
          },
          "metadata": {
            "tags": []
          },
          "execution_count": 53
        }
      ]
    },
    {
      "cell_type": "code",
      "metadata": {
        "id": "6Fi0rVYeG5TX",
        "colab_type": "code",
        "colab": {}
      },
      "source": [
        "losses2 = [logupdate(x,y,lr,model2) for x,y in data.train_dl]"
      ],
      "execution_count": null,
      "outputs": []
    },
    {
      "cell_type": "code",
      "metadata": {
        "id": "4flQYr-WHiXv",
        "colab_type": "code",
        "colab": {
          "base_uri": "https://localhost:8080/",
          "height": 281
        },
        "outputId": "c6c43785-66f3-4e9e-cb0c-00add7620626"
      },
      "source": [
        "plt.plot(losses2)"
      ],
      "execution_count": null,
      "outputs": [
        {
          "output_type": "execute_result",
          "data": {
            "text/plain": [
              "[<matplotlib.lines.Line2D at 0x7f7b2207d898>]"
            ]
          },
          "metadata": {
            "tags": []
          },
          "execution_count": 57
        },
        {
          "output_type": "display_data",
          "data": {
            "image/png": "[encoded data removed]",
            "text/plain": [
              "<Figure size 432x288 with 1 Axes>"
            ]
          },
          "metadata": {
            "tags": [],
            "needs_background": "light"
          }
        }
      ]
    },
    {
      "cell_type": "code",
      "metadata": {
        "id": "SQ1orxigHm2z",
        "colab_type": "code",
        "colab": {}
      },
      "source": [
        "def update(x,y,lr, m):\n",
        "    opt = optim.Adam(model.parameters(), lr)\n",
        "    y_hat = m(x)\n",
        "    loss = loss_f(y_hat, y)\n",
        "    loss.backward()\n",
        "    opt.step()\n",
        "    opt.zero_grad()\n",
        "    return loss.item()"
      ],
      "execution_count": null,
      "outputs": []
    },
    {
      "cell_type": "code",
      "metadata": {
        "id": "bsy3MGkTIHI3",
        "colab_type": "code",
        "colab": {}
      },
      "source": [
        "losses3 = [update(x,y,1e-3,model2) for x,y in data.train_dl]"
      ],
      "execution_count": null,
      "outputs": []
    },
    {
      "cell_type": "code",
      "metadata": {
        "id": "9otyyWH2ISjh",
        "colab_type": "code",
        "colab": {
          "base_uri": "https://localhost:8080/",
          "height": 281
        },
        "outputId": "91ce9d16-ce64-4e2a-adba-b688836486b2"
      },
      "source": [
        "plt.plot(losses3)"
      ],
      "execution_count": null,
      "outputs": [
        {
          "output_type": "execute_result",
          "data": {
            "text/plain": [
              "[<matplotlib.lines.Line2D at 0x7f7af3c59e80>]"
            ]
          },
          "metadata": {
            "tags": []
          },
          "execution_count": 67
        },
        {
          "output_type": "display_data",
          "data": {
            "image/png": "[encoded data removed]",
            "text/plain": [
              "<Figure size 432x288 with 1 Axes>"
            ]
          },
          "metadata": {
            "tags": [],
            "needs_background": "light"
          }
        }
      ]
    },
    {
      "cell_type": "code",
      "metadata": {
        "id": "YoeQQ4RsIZBI",
        "colab_type": "code",
        "colab": {}
      },
      "source": [
        ""
      ],
      "execution_count": null,
      "outputs": []
    }
  ]
}